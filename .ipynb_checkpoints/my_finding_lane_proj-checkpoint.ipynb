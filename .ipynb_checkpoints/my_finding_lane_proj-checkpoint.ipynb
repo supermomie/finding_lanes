{
 "cells": [
  {
   "cell_type": "code",
   "execution_count": null,
   "metadata": {},
   "outputs": [],
   "source": [
    "import os\n",
    "import cv2\n",
    "import PIL\n",
    "import numpy as np\n",
    "import matplotlib.pyplot as plt"
   ]
  },
  {
   "cell_type": "code",
   "execution_count": null,
   "metadata": {},
   "outputs": [],
   "source": [
    "def make_coordinates(image, line):\n",
    "    slope, intercept = line\n",
    "    y1 = int(image.shape[0])# bottom of the image\n",
    "    y2 = int(y1*3/5)         # slightly lower than the middle\n",
    "    x1 = int((y1 - intercept)/slope)\n",
    "    x2 = int((y2 - intercept)/slope)\n",
    "    return [[x1, y1, x2, y2]]\n"
   ]
  },
  {
   "cell_type": "code",
   "execution_count": null,
   "metadata": {},
   "outputs": [],
   "source": [
    "def average_slope_intercept(image, lines):\n",
    "    left_fit    = []\n",
    "    right_fit   = []\n",
    "    if lines is None:\n",
    "        return None\n",
    "    for line in lines:\n",
    "        for x1, y1, x2, y2 in line:\n",
    "            fit = np.polyfit((x1,x2), (y1,y2), 1)\n",
    "            slope = fit[0]\n",
    "            intercept = fit[1]\n",
    "            if slope < 0: # y is reversed in image\n",
    "                left_fit.append((slope, intercept))\n",
    "            else:\n",
    "                right_fit.append((slope, intercept))\n",
    "    if left_fit:\n",
    "        left_fit_average = np.average(left_fit, axis = 0)\n",
    "        left_line = make_coordinates(image, left_fit_average)\n",
    "    else:\n",
    "        left_line = np.array([[0, 0, 0, 0]])\n",
    "    if right_fit:\n",
    "        right_fit_average = np.average(right_fit, axis = 0)\n",
    "        right_line = make_coordinates(image, right_fit_average)\n",
    "    else:\n",
    "        right_line = np.array([[0, 0, 0, 0]])\n",
    "    return np.array([left_line, right_line])\n"
   ]
  },
  {
   "cell_type": "code",
   "execution_count": null,
   "metadata": {},
   "outputs": [],
   "source": [
    "def canny(img):\n",
    "    gray = cv2.cvtColor(img, cv2.COLOR_RGB2GRAY)\n",
    "    blur = cv2.GaussianBlur(gray,(5,5),0)\n",
    "    canny = cv2.Canny(blur, 100, 150)\n",
    "    return canny"
   ]
  },
  {
   "cell_type": "code",
   "execution_count": null,
   "metadata": {},
   "outputs": [],
   "source": [
    "def region_of_interest(canny):\n",
    "    height = canny.shape[0]\n",
    "    width = canny.shape[1]\n",
    "    mask = np.zeros_like(canny)\n",
    "    ignore_mask_color = 255\n",
    "    A = (100, height)       # bottom left\n",
    "    B = (430, 330)          # top left\n",
    "    C = (590, 330)          # top right\n",
    "    D = (width, height)     # bottom right\n",
    "    triangle = np.array([[A,B,C,D]], np.int32)\n",
    "    cv2.fillPoly(mask, triangle, ignore_mask_color)\n",
    "    masked_image = cv2.bitwise_and(canny, mask)\n",
    "#     return mask # to see the mask\n",
    "    return masked_image"
   ]
  },
  {
   "cell_type": "code",
   "execution_count": null,
   "metadata": {},
   "outputs": [],
   "source": [
    "def display_lines(img, lines):\n",
    "    line_image = np.zeros_like(img)\n",
    "    if lines is not None:\n",
    "        for line in lines:\n",
    "            for x1, y1, x2, y2 in line:\n",
    "                cv2.line(line_image, (x1, y1), (x2, y2), (255,0,0), 10)\n",
    "    return line_image"
   ]
  },
  {
   "cell_type": "code",
   "execution_count": null,
   "metadata": {},
   "outputs": [],
   "source": [
    "def process_image(image):\n",
    "    lane_image = np.copy(image)\n",
    "    lane_canny = canny(lane_image)\n",
    "    cropped_image = region_of_interest(lane_canny)\n",
    "    lines = cv2.HoughLinesP(cropped_image, 1, np.pi/180, 1, np.array([]), minLineLength=65, maxLineGap=25)\n",
    "    averaged_lines = average_slope_intercept(image, lines)\n",
    "    line_image = display_lines(lane_image, averaged_lines)\n",
    "    combo_image = cv2.addWeighted(lane_image, .8, line_image,1, 0)\n",
    "    \n",
    "    return combo_image"
   ]
  },
  {
   "cell_type": "code",
   "execution_count": null,
   "metadata": {},
   "outputs": [],
   "source": [
    "def img():\n",
    "    paths = os.getcwd()+'/test_images'\n",
    "    files = os.listdir(paths)\n",
    "    \n",
    "    for num, x in enumerate(files):\n",
    "        \n",
    "        image = cv2.imread('./test_images/'+x)\n",
    "        lane_image = np.copy(image)\n",
    "        result = process_image(image)\n",
    "        \n",
    "        fig, axs = plt.subplots(1, 2, figsize=(15, 20))\n",
    "        fig.tight_layout()\n",
    "\n",
    "        axs[0].imshow(result)\n",
    "        axs[0].set_title(x.split('.')[0]+\" COMBO_IMAGE\")\n",
    "        axs[1].imshow(lane_image)\n",
    "        axs[1].set_title(x.split('.')[0]+\" ORIGINAL_IMAGE\")"
   ]
  },
  {
   "cell_type": "code",
   "execution_count": null,
   "metadata": {
    "scrolled": false
   },
   "outputs": [],
   "source": [
    "img()"
   ]
  },
  {
   "cell_type": "code",
   "execution_count": null,
   "metadata": {},
   "outputs": [],
   "source": [
    "from moviepy.editor import VideoFileClip\n",
    "from IPython.display import HTML"
   ]
  },
  {
   "cell_type": "code",
   "execution_count": null,
   "metadata": {},
   "outputs": [],
   "source": [
    "def vid():\n",
    "    paths = os.getcwd()+'/test_videos'\n",
    "    files = os.listdir(paths)\n",
    "    for num, x in enumerate(files):\n",
    "            \n",
    "        white_output = 'test_videos_output/'+x\n",
    "        clip1 = VideoFileClip('test_videos/'+x)\n",
    "        white_clip = clip1.fl_image(process_image) #NOTE: this function expects color images!!\n",
    "        %time white_clip.write_videofile(white_output, audio=False)"
   ]
  },
  {
   "cell_type": "code",
   "execution_count": null,
   "metadata": {
    "scrolled": false
   },
   "outputs": [],
   "source": [
    "vid()"
   ]
  },
  {
   "cell_type": "code",
   "execution_count": null,
   "metadata": {},
   "outputs": [],
   "source": []
  },
  {
   "cell_type": "code",
   "execution_count": null,
   "metadata": {},
   "outputs": [],
   "source": []
  }
 ],
 "metadata": {
  "kernelspec": {
   "display_name": "Python 3",
   "language": "python",
   "name": "python3"
  },
  "language_info": {
   "codemirror_mode": {
    "name": "ipython",
    "version": 3
   },
   "file_extension": ".py",
   "mimetype": "text/x-python",
   "name": "python",
   "nbconvert_exporter": "python",
   "pygments_lexer": "ipython3",
   "version": "3.6.3"
  }
 },
 "nbformat": 4,
 "nbformat_minor": 2
}
